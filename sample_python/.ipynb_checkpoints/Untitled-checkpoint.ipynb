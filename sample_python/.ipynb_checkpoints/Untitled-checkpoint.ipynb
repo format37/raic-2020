{
 "cells": [
  {
   "cell_type": "code",
   "execution_count": 12,
   "metadata": {},
   "outputs": [],
   "source": [
    "import pickle\n",
    "from model.entity_type import EntityType\n",
    "from model.entity_properties import EntityProperties\n",
    "from model.move_action import MoveAction\n",
    "from model.entity_type import EntityType as et\n",
    "import math"
   ]
  },
  {
   "cell_type": "code",
   "execution_count": 13,
   "metadata": {},
   "outputs": [],
   "source": [
    "player_view = pickle.load(open(\"player_view.dat\", \"rb\"))"
   ]
  },
  {
   "cell_type": "code",
   "execution_count": 14,
   "metadata": {},
   "outputs": [],
   "source": [
    "def is_base(e, t = [et.BUILDER_BASE, et.MELEE_BASE, et.RANGED_BASE]):\n",
    "    return True if e.entity_type in t else False"
   ]
  },
  {
   "cell_type": "code",
   "execution_count": 18,
   "metadata": {},
   "outputs": [
    {
     "name": "stdout",
     "output_type": "stream",
     "text": [
      "player score resource\n"
     ]
    }
   ],
   "source": [
    "#for p in player_view.players:\n",
    "#for entity in player_view.entities:\n",
    "#    if entity.player_id == my_id:\n",
    "#    print(p)\n",
    "print('player','score','resource')\n",
    "psr = player_view.players[my_id-1]"
   ]
  },
  {
   "cell_type": "code",
   "execution_count": 20,
   "metadata": {},
   "outputs": [
    {
     "data": {
      "text/plain": [
       "0"
      ]
     },
     "execution_count": 20,
     "metadata": {},
     "output_type": "execute_result"
    }
   ],
   "source": [
    "psr.resource"
   ]
  },
  {
   "cell_type": "code",
   "execution_count": 3,
   "metadata": {},
   "outputs": [
    {
     "name": "stdout",
     "output_type": "stream",
     "text": [
      "EntityType.RANGED_BASE\n",
      "EntityType.MELEE_UNIT\n",
      "EntityType.TURRET\n",
      "EntityType.HOUSE\n",
      "EntityType.RANGED_UNIT\n",
      "EntityType.MELEE_BASE\n",
      "EntityType.BUILDER_UNIT\n",
      "EntityType.BUILDER_BASE\n",
      "EntityType.WALL\n",
      "EntityType.RESOURCE\n"
     ]
    }
   ],
   "source": [
    "for _ in player_view.entity_properties:\n",
    "    print(_)"
   ]
  },
  {
   "cell_type": "code",
   "execution_count": 16,
   "metadata": {},
   "outputs": [
    {
     "data": {
      "text/plain": [
       "2"
      ]
     },
     "execution_count": 16,
     "metadata": {},
     "output_type": "execute_result"
    }
   ],
   "source": [
    "my_id = player_view.my_id\n",
    "my_id"
   ]
  },
  {
   "cell_type": "code",
   "execution_count": 30,
   "metadata": {},
   "outputs": [
    {
     "data": {
      "text/plain": [
       "321"
      ]
     },
     "execution_count": 30,
     "metadata": {},
     "output_type": "execute_result"
    }
   ],
   "source": [
    "d = {320:1, 321:0, 322:3}\n",
    "min(d, key=d.get)"
   ]
  },
  {
   "cell_type": "code",
   "execution_count": 40,
   "metadata": {},
   "outputs": [
    {
     "data": {
      "text/plain": [
       "True"
      ]
     },
     "execution_count": 40,
     "metadata": {},
     "output_type": "execute_result"
    }
   ],
   "source": [
    "0 in d.values()"
   ]
  },
  {
   "cell_type": "code",
   "execution_count": 42,
   "metadata": {},
   "outputs": [],
   "source": [
    "d[34]=5"
   ]
  },
  {
   "cell_type": "code",
   "execution_count": 47,
   "metadata": {},
   "outputs": [],
   "source": [
    "def nearest_builder(player_view,building,repair_team):\n",
    "    bx = building.position.x\n",
    "    by = building.position.y\n",
    "    distances = {}\n",
    "    for entity in player_view.entities:\n",
    "        if entity.player_id == player_view.my_id and \\\n",
    "                entity.entity_type == et.BUILDER_UNIT and \\\n",
    "                not entity.id in repair_team.values():\n",
    "            distances[entity.id] = math.hypot(bx - entity.position.x, by - entity.position.y)\n",
    "    return min(distances, key=distances.get)"
   ]
  },
  {
   "cell_type": "code",
   "execution_count": null,
   "metadata": {},
   "outputs": [],
   "source": [
    "def repair_queue(player_view):\n",
    "    repair_team = {}\n",
    "    for entity in player_view.entities:\n",
    "        if entity.player_id == player_view.my_id and is_base(entity):\n",
    "            if entity.health<100:\n",
    "                if not entity.id in repair_team: # TODO: check is builder alive\n",
    "                    builder = nearest_builder(player_view,repair_team)\n",
    "                    repair_team[entity.id]=builder"
   ]
  },
  {
   "cell_type": "code",
   "execution_count": 50,
   "metadata": {},
   "outputs": [
    {
     "data": {
      "text/plain": [
       "11"
      ]
     },
     "execution_count": 50,
     "metadata": {},
     "output_type": "execute_result"
    }
   ],
   "source": [
    "temp_repair_team = {}\n",
    "nearest_builder(player_view,entity,temp_repair_team)"
   ]
  },
  {
   "cell_type": "code",
   "execution_count": 16,
   "metadata": {},
   "outputs": [],
   "source": [
    "for entity in player_view.entities:\n",
    "    if entity.player_id == player_view.my_id:\n",
    "        if is_base(entity):\n",
    "            properties = player_view.entity_properties[entity.entity_type]\n",
    "            #build_properties.options\n",
    "            break"
   ]
  },
  {
   "cell_type": "code",
   "execution_count": null,
   "metadata": {},
   "outputs": [],
   "source": [
    "\n"
   ]
  },
  {
   "cell_type": "code",
   "execution_count": 28,
   "metadata": {},
   "outputs": [
    {
     "data": {
      "text/plain": [
       "100"
      ]
     },
     "execution_count": 28,
     "metadata": {},
     "output_type": "execute_result"
    }
   ],
   "source": [
    "entity.health"
   ]
  },
  {
   "cell_type": "code",
   "execution_count": 22,
   "metadata": {},
   "outputs": [
    {
     "data": {
      "text/plain": [
       "<EntityType.MELEE_UNIT: 5>"
      ]
     },
     "execution_count": 22,
     "metadata": {},
     "output_type": "execute_result"
    }
   ],
   "source": [
    "build_properties = properties.build\n",
    "build_properties.options[0]"
   ]
  },
  {
   "cell_type": "code",
   "execution_count": 5,
   "metadata": {
    "scrolled": true
   },
   "outputs": [
    {
     "name": "stdout",
     "output_type": "stream",
     "text": [
      "2\n",
      "11\n",
      "Vec2Int(4,4)\n",
      "EntityType.BUILDER_UNIT\n",
      "10\n",
      "True\n"
     ]
    }
   ],
   "source": [
    "for entity in player_view.entities:\n",
    "    if entity.player_id == player_view.my_id and entity.active: \n",
    "    #if entity.entity_type == EntityType.RESOURCE:\n",
    "        resource_position = entity.position\n",
    "        #if entity.entity_type == EntityType.BUILDER_UNIT:    \n",
    "        print(entity.player_id)\n",
    "        print(entity.id)\n",
    "        print(entity.position)\n",
    "        print(entity.entity_type)\n",
    "        print(entity.health)\n",
    "        print(entity.active)\n",
    "        break"
   ]
  },
  {
   "cell_type": "code",
   "execution_count": 3,
   "metadata": {},
   "outputs": [
    {
     "data": {
      "text/plain": [
       "dict_values([1, 0, 3])"
      ]
     },
     "execution_count": 3,
     "metadata": {},
     "output_type": "execute_result"
    }
   ],
   "source": [
    "d = {320:1, 321:0, 322:3}\n",
    "d.values()"
   ]
  },
  {
   "cell_type": "code",
   "execution_count": 6,
   "metadata": {},
   "outputs": [
    {
     "data": {
      "text/plain": [
       "322"
      ]
     },
     "execution_count": 6,
     "metadata": {},
     "output_type": "execute_result"
    }
   ],
   "source": [
    "list(d.keys())[list(d.values()).index(3)]"
   ]
  },
  {
   "cell_type": "code",
   "execution_count": 7,
   "metadata": {},
   "outputs": [
    {
     "data": {
      "text/plain": [
       "{320: 1, 321: 0, 322: 3}"
      ]
     },
     "execution_count": 7,
     "metadata": {},
     "output_type": "execute_result"
    }
   ],
   "source": [
    "d"
   ]
  },
  {
   "cell_type": "code",
   "execution_count": 8,
   "metadata": {},
   "outputs": [
    {
     "data": {
      "text/plain": [
       "0"
      ]
     },
     "execution_count": 8,
     "metadata": {},
     "output_type": "execute_result"
    }
   ],
   "source": [
    "d.pop(321)"
   ]
  },
  {
   "cell_type": "code",
   "execution_count": 10,
   "metadata": {},
   "outputs": [
    {
     "data": {
      "text/plain": [
       "1"
      ]
     },
     "execution_count": 10,
     "metadata": {},
     "output_type": "execute_result"
    }
   ],
   "source": [
    "d[320]"
   ]
  }
 ],
 "metadata": {
  "kernelspec": {
   "display_name": "Python 3",
   "language": "python",
   "name": "python3"
  },
  "language_info": {
   "codemirror_mode": {
    "name": "ipython",
    "version": 3
   },
   "file_extension": ".py",
   "mimetype": "text/x-python",
   "name": "python",
   "nbconvert_exporter": "python",
   "pygments_lexer": "ipython3",
   "version": "3.7.6"
  }
 },
 "nbformat": 4,
 "nbformat_minor": 4
}
