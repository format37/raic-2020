{
 "cells": [
  {
   "cell_type": "code",
   "execution_count": 1,
   "metadata": {},
   "outputs": [],
   "source": [
    "#import numpy as np\n",
    "import model\n",
    "import pickle\n",
    "from sklearn.cluster import KMeans\n",
    "import pandas as pd\n",
    "import numpy as np\n",
    "from model.entity_type import EntityType as et\n",
    "from math import ceil"
   ]
  },
  {
   "cell_type": "markdown",
   "metadata": {},
   "source": [
    "### player_view"
   ]
  },
  {
   "cell_type": "code",
   "execution_count": 11,
   "metadata": {},
   "outputs": [],
   "source": [
    "player_view = pickle.load(open(\"player_view.dat\", \"rb\"))"
   ]
  },
  {
   "cell_type": "code",
   "execution_count": 15,
   "metadata": {},
   "outputs": [
    {
     "data": {
      "text/plain": [
       "1"
      ]
     },
     "execution_count": 15,
     "metadata": {},
     "output_type": "execute_result"
    }
   ],
   "source": [
    "player_view.entity_properties[et.BUILDER_UNIT].population_use"
   ]
  },
  {
   "cell_type": "code",
   "execution_count": 16,
   "metadata": {},
   "outputs": [
    {
     "data": {
      "text/plain": [
       "0"
      ]
     },
     "execution_count": 16,
     "metadata": {},
     "output_type": "execute_result"
    }
   ],
   "source": [
    "player_view.entity_properties[et.BUILDER_UNIT].population_provide"
   ]
  },
  {
   "cell_type": "markdown",
   "metadata": {},
   "source": [
    "### houses"
   ]
  },
  {
   "cell_type": "code",
   "execution_count": 5,
   "metadata": {},
   "outputs": [],
   "source": [
    "map_size = 80\n",
    "entities = pickle.load(open(\"entities_1.dat\", \"rb\"))"
   ]
  },
  {
   "cell_type": "code",
   "execution_count": 7,
   "metadata": {},
   "outputs": [],
   "source": [
    "city = [\n",
    "    [11, 11, et.HOUSE],\n",
    "    [11, 16, et.HOUSE],\n",
    "    [16, 11, et.HOUSE],\n",
    "    [6, 11, et.HOUSE],\n",
    "]"
   ]
  },
  {
   "cell_type": "code",
   "execution_count": null,
   "metadata": {},
   "outputs": [],
   "source": []
  },
  {
   "cell_type": "markdown",
   "metadata": {},
   "source": [
    "### damaged"
   ]
  },
  {
   "cell_type": "code",
   "execution_count": 72,
   "metadata": {},
   "outputs": [],
   "source": [
    "my_id = 1\n",
    "actions = {}\n",
    "repairers_per_target = 2"
   ]
  },
  {
   "cell_type": "code",
   "execution_count": 50,
   "metadata": {},
   "outputs": [
    {
     "data": {
      "text/html": [
       "<div>\n",
       "<style scoped>\n",
       "    .dataframe tbody tr th:only-of-type {\n",
       "        vertical-align: middle;\n",
       "    }\n",
       "\n",
       "    .dataframe tbody tr th {\n",
       "        vertical-align: top;\n",
       "    }\n",
       "\n",
       "    .dataframe thead th {\n",
       "        text-align: right;\n",
       "    }\n",
       "</style>\n",
       "<table border=\"1\" class=\"dataframe\">\n",
       "  <thead>\n",
       "    <tr style=\"text-align: right;\">\n",
       "      <th></th>\n",
       "      <th>entity_id</th>\n",
       "      <th>dx</th>\n",
       "      <th>dy</th>\n",
       "      <th>health_gap</th>\n",
       "    </tr>\n",
       "  </thead>\n",
       "  <tbody>\n",
       "    <tr>\n",
       "      <th>17</th>\n",
       "      <td>7</td>\n",
       "      <td>15</td>\n",
       "      <td>5</td>\n",
       "      <td>135</td>\n",
       "    </tr>\n",
       "  </tbody>\n",
       "</table>\n",
       "</div>"
      ],
      "text/plain": [
       "    entity_id  dx  dy  health_gap\n",
       "17          7  15   5         135"
      ]
     },
     "execution_count": 50,
     "metadata": {},
     "output_type": "execute_result"
    }
   ],
   "source": [
    "mask = (entities['player_id'] == my_id) & ( \\\n",
    "       (entities['entity_type'] == et.BUILDER_BASE) | \\\n",
    "       (entities['entity_type'] == et.MELEE_BASE) | \\\n",
    "       (entities['entity_type'] == et.RANGED_BASE) | \\\n",
    "       (entities['entity_type'] == et.TURRET) | \\\n",
    "       (entities['entity_type'] == et.HOUSE)) & \\\n",
    "       (entities['health_gap'] > 0)\n",
    "damaged = pd.DataFrame(entities[mask], columns=['entity_id','x','y','health_gap'])\n",
    "damaged.columns = ['entity_id','dx','dy','health_gap']\n",
    "damaged.sort_values(['health_gap'], ascending=False, inplace = True)\n",
    "damaged"
   ]
  },
  {
   "cell_type": "code",
   "execution_count": 73,
   "metadata": {},
   "outputs": [],
   "source": [
    "busy = []\n",
    "mask = (entities['player_id'] == my_id) & (entities['entity_type'] == et.BUILDER_UNIT)\n",
    "for building_id, dx, dy, health_gap in damaged.values:\n",
    "    repairers = pd.DataFrame(entities[mask], columns=['entity_id', 'x', 'y'])\n",
    "    repairers.columns = ['entity_id', 'rx', 'ry']    \n",
    "    repairers['distance']=np.hypot(repairers.rx-dx,repairers.ry-dy)\n",
    "    repairers.sort_values(['distance'], ascending=True, inplace = True)\n",
    "    repairers_count = 0\n",
    "    for repairer_id, rx, ry, distance in repairers.values:\n",
    "        if not repairer_id in busy:\n",
    "            m, b, a, r = None, None, None, None\n",
    "            target = model.vec2_int.Vec2Int(dx, dy)\n",
    "            r = model.repair_action.RepairAction(target=building_id)\n",
    "            m = model.move_action.MoveAction(target, True, True)\n",
    "            actions[repairer_id] = model.EntityAction(m, b, a, r)\n",
    "            busy.append(repairer_id)\n",
    "            repairers_count += 1\n",
    "            if repairers_count >= repairers_per_target:\n",
    "                break"
   ]
  },
  {
   "cell_type": "markdown",
   "metadata": {},
   "source": [
    "### house"
   ]
  },
  {
   "cell_type": "code",
   "execution_count": 103,
   "metadata": {},
   "outputs": [],
   "source": [
    "from math import sqrt"
   ]
  },
  {
   "cell_type": "code",
   "execution_count": 119,
   "metadata": {},
   "outputs": [],
   "source": [
    "debug_params = pickle.load(open(\"debug_params_1.dat\", \"rb\"))"
   ]
  },
  {
   "cell_type": "code",
   "execution_count": 120,
   "metadata": {},
   "outputs": [],
   "source": [
    "my_id, entities, actions, initial_cost, resource = debug_params"
   ]
  },
  {
   "cell_type": "code",
   "execution_count": 121,
   "metadata": {},
   "outputs": [
    {
     "data": {
      "text/plain": [
       "True"
      ]
     },
     "execution_count": 121,
     "metadata": {},
     "output_type": "execute_result"
    }
   ],
   "source": [
    "initial_cost * 2 < resource"
   ]
  },
  {
   "cell_type": "code",
   "execution_count": 131,
   "metadata": {},
   "outputs": [],
   "source": [
    "#if initial_cost * 2 < resource:\n",
    "# get exists houses\n",
    "mask = (entities['player_id'] == my_id) & (entities['entity_type'] == et.HOUSE)\n",
    "houses = pd.DataFrame(entities[mask], columns=['x', 'y'])\n",
    "# check for empty spaces\n",
    "build_spaces = []\n",
    "quad_limit = int(sqrt(len(houses))+4)*4\n",
    "for hx in range(1, quad_limit, 5):\n",
    "    for hy in range(1, quad_limit, 5):\n",
    "        if len(houses[(houses.x == hx) & (houses.y == hy)]) == 0:\n",
    "            build_spaces.append([hx, hy])\n",
    "build_spaces = pd.DataFrame(build_spaces, columns=['hx', 'hy'])"
   ]
  },
  {
   "cell_type": "code",
   "execution_count": 138,
   "metadata": {},
   "outputs": [
    {
     "data": {
      "text/plain": [
       "0"
      ]
     },
     "execution_count": 138,
     "metadata": {},
     "output_type": "execute_result"
    }
   ],
   "source": [
    "4 % (2 * 2)"
   ]
  },
  {
   "cell_type": "code",
   "execution_count": 132,
   "metadata": {},
   "outputs": [
    {
     "data": {
      "text/plain": [
       "24"
      ]
     },
     "execution_count": 132,
     "metadata": {},
     "output_type": "execute_result"
    }
   ],
   "source": [
    "quad_limit"
   ]
  },
  {
   "cell_type": "code",
   "execution_count": 123,
   "metadata": {},
   "outputs": [
    {
     "data": {
      "text/plain": [
       "1"
      ]
     },
     "execution_count": 123,
     "metadata": {},
     "output_type": "execute_result"
    }
   ],
   "source": [
    "len(build_spaces)"
   ]
  },
  {
   "cell_type": "code",
   "execution_count": 112,
   "metadata": {},
   "outputs": [],
   "source": [
    "ban_houses = pd.DataFrame([[6, 6]], columns=['nx', 'ny'])"
   ]
  },
  {
   "cell_type": "code",
   "execution_count": 115,
   "metadata": {},
   "outputs": [
    {
     "data": {
      "text/plain": [
       "1"
      ]
     },
     "execution_count": 115,
     "metadata": {},
     "output_type": "execute_result"
    }
   ],
   "source": [
    "hx, hy = 6, 6\n",
    "mask = (ban_houses.nx == hx) & (ban_houses.ny == hy)\n",
    "len(ban_houses[mask])"
   ]
  },
  {
   "cell_type": "code",
   "execution_count": 128,
   "metadata": {},
   "outputs": [
    {
     "name": "stdout",
     "output_type": "stream",
     "text": [
      "house 4001 1 16\n"
     ]
    }
   ],
   "source": [
    "if len(build_spaces):        \n",
    "    build_spaces['zero_distance'] = np.hypot(build_spaces.hx, build_spaces.hy)\n",
    "    build_spaces.sort_values(['zero_distance'], ascending = True, inplace = True)\n",
    "    tasks = 0\n",
    "    busy = []\n",
    "    mask = (entities['player_id'] == my_id) & (entities['entity_type'] == et.BUILDER_UNIT)\n",
    "    for hx, hy, zero_distance in build_spaces.values:\n",
    "        if len(busy) > 0:\n",
    "            break\n",
    "        hx = int(hx)\n",
    "        hy = int(hy)\n",
    "        if len(ban_houses[(ban_houses.nx == hx) & (ban_houses.ny == hy)]) > 0:\n",
    "            continue\n",
    "        builders = pd.DataFrame(entities[mask], columns=['entity_id', 'x', 'y'])\n",
    "        builders.columns = ['entity_id', 'bx', 'by']\n",
    "        builders['distance'] = np.hypot(builders.bx - hx, builders.by - hy)\n",
    "        builders.sort_values(['distance'], ascending=True, inplace=True)\n",
    "        for builder_id, bx, by, distance in builders.values:\n",
    "            builder_id = int(builder_id)\n",
    "            if not builder_id in busy:\n",
    "                m, b, a, r = None, None, None, None\n",
    "                target = model.vec2_int.Vec2Int(hx, hy)\n",
    "                b = model.build_action.BuildAction(et.HOUSE, model.vec2_int.Vec2Int(hx, hy))\n",
    "                m = model.move_action.MoveAction(model.vec2_int.Vec2Int(hx - 1, hy), True, True)\n",
    "                actions[builder_id] = model.EntityAction(m, b, a, r)\n",
    "                busy.append(builder_id)\n",
    "                print('house', builder_id, hx, hy)\n",
    "                break\n",
    "                #repairers_count += 1\n",
    "                #if repairers_count >= self.repairers_per_target:\n",
    "                #    break"
   ]
  },
  {
   "cell_type": "code",
   "execution_count": 186,
   "metadata": {},
   "outputs": [],
   "source": [
    "enemy_centroids = pd.DataFrame([[5,  21] ], columns=['x', 'y'])"
   ]
  },
  {
   "cell_type": "code",
   "execution_count": 157,
   "metadata": {},
   "outputs": [],
   "source": [
    "sight_range = 10"
   ]
  },
  {
   "cell_type": "code",
   "execution_count": 176,
   "metadata": {},
   "outputs": [
    {
     "data": {
      "text/plain": [
       "(18, 9, 6)"
      ]
     },
     "execution_count": 176,
     "metadata": {},
     "output_type": "execute_result"
    }
   ],
   "source": [
    "unit_len, unit_counter , ceil(unit_len / counter_len), "
   ]
  },
  {
   "cell_type": "code",
   "execution_count": 187,
   "metadata": {},
   "outputs": [],
   "source": [
    "actions = {}\n",
    "mask = (entities['player_id'] == my_id) & \\\n",
    "       (\n",
    "               (entities['entity_type'] == et.MELEE_UNIT) |\n",
    "               (entities['entity_type'] == et.RANGED_UNIT)\n",
    "       )\n",
    "units = pd.DataFrame(entities[mask], columns=['entity_id','x','y'])\n",
    "units.columns = ['entity_id', 'ux', 'uy']\n",
    "i = 0\n",
    "for cx, cy in enemy_centroids.values:\n",
    "    units['d'+str(i)] = np.hypot(units.ux - cx, units.uy - cy)\n",
    "    i += 1\n",
    "\n",
    "busy = []\n",
    "#i = 0\n",
    "unit_len = len(units)\n",
    "counter_len = len(enemy_centroids)\n",
    "unit_counter = 0\n",
    "current_centroid = 0\n",
    "units.sort_values(['d'+str(current_centroid)], ascending=True, inplace=True)\n",
    "for ex, ey in enemy_centroids.values:\n",
    "    #if unit_counter > unit_len / counter_len:\n",
    "    #x,y = self.enemy_centroids.values[0]\n",
    "    target = model.vec2_int.Vec2Int(ex, ey)\n",
    "\n",
    "    m, b, a, r = None, None, None, None\n",
    "    m = model.move_action.MoveAction(target, True, True)\n",
    "    a = model.attack_action.AttackAction(\n",
    "        target=None,\n",
    "        auto_attack=model.auto_attack.AutoAttack(\n",
    "            pathfind_range=sight_range,\n",
    "            valid_targets=[]\n",
    "        )\n",
    "    )\n",
    "    for entity_id in units.entity_id:\n",
    "        if not entity_id in busy:\n",
    "            actions[entity_id] = model.EntityAction(m, b, a, r)\n",
    "            busy.append(entity_id)\n",
    "            unit_counter += 1            \n",
    "            if unit_counter >= unit_len / counter_len:\n",
    "                unit_counter = 0\n",
    "                current_centroid += 1\n",
    "                units.sort_values(['d'+str(current_centroid-1)], ascending=True, inplace=True)\n",
    "                break\n",
    "    #i += 1"
   ]
  },
  {
   "cell_type": "code",
   "execution_count": 188,
   "metadata": {},
   "outputs": [
    {
     "data": {
      "text/plain": [
       "{3979: EntityAction(MoveAction(Vec2Int(5,21),True,True),None,AttackAction(None,AutoAttack(10,[])),None),\n",
       " 3964: EntityAction(MoveAction(Vec2Int(5,21),True,True),None,AttackAction(None,AutoAttack(10,[])),None),\n",
       " 3811: EntityAction(MoveAction(Vec2Int(5,21),True,True),None,AttackAction(None,AutoAttack(10,[])),None),\n",
       " 3794: EntityAction(MoveAction(Vec2Int(5,21),True,True),None,AttackAction(None,AutoAttack(10,[])),None),\n",
       " 3469: EntityAction(MoveAction(Vec2Int(5,21),True,True),None,AttackAction(None,AutoAttack(10,[])),None),\n",
       " 3550: EntityAction(MoveAction(Vec2Int(5,21),True,True),None,AttackAction(None,AutoAttack(10,[])),None),\n",
       " 3538: EntityAction(MoveAction(Vec2Int(5,21),True,True),None,AttackAction(None,AutoAttack(10,[])),None),\n",
       " 3743: EntityAction(MoveAction(Vec2Int(5,21),True,True),None,AttackAction(None,AutoAttack(10,[])),None),\n",
       " 3662: EntityAction(MoveAction(Vec2Int(5,21),True,True),None,AttackAction(None,AutoAttack(10,[])),None),\n",
       " 3552: EntityAction(MoveAction(Vec2Int(5,21),True,True),None,AttackAction(None,AutoAttack(10,[])),None),\n",
       " 3103: EntityAction(MoveAction(Vec2Int(5,21),True,True),None,AttackAction(None,AutoAttack(10,[])),None),\n",
       " 3556: EntityAction(MoveAction(Vec2Int(5,21),True,True),None,AttackAction(None,AutoAttack(10,[])),None),\n",
       " 3444: EntityAction(MoveAction(Vec2Int(5,21),True,True),None,AttackAction(None,AutoAttack(10,[])),None),\n",
       " 3348: EntityAction(MoveAction(Vec2Int(5,21),True,True),None,AttackAction(None,AutoAttack(10,[])),None),\n",
       " 3546: EntityAction(MoveAction(Vec2Int(5,21),True,True),None,AttackAction(None,AutoAttack(10,[])),None),\n",
       " 3531: EntityAction(MoveAction(Vec2Int(5,21),True,True),None,AttackAction(None,AutoAttack(10,[])),None),\n",
       " 3408: EntityAction(MoveAction(Vec2Int(5,21),True,True),None,AttackAction(None,AutoAttack(10,[])),None),\n",
       " 3342: EntityAction(MoveAction(Vec2Int(5,21),True,True),None,AttackAction(None,AutoAttack(10,[])),None)}"
      ]
     },
     "execution_count": 188,
     "metadata": {},
     "output_type": "execute_result"
    }
   ],
   "source": [
    "actions"
   ]
  },
  {
   "cell_type": "code",
   "execution_count": null,
   "metadata": {},
   "outputs": [],
   "source": [
    "    def repairers_action(self, timer_start, timer_end, my_id, entities, actions):\n",
    "        if self.debug:\n",
    "            timer_start['repairers_action'] = datetime.datetime.now()\n",
    "\n",
    "        mask = (entities['player_id'] == my_id) & ( \\\n",
    "                    (entities['entity_type'] == et.BUILDER_BASE) | \\\n",
    "                    (entities['entity_type'] == et.MELEE_BASE) | \\\n",
    "                    (entities['entity_type'] == et.RANGED_BASE) | \\\n",
    "                    (entities['entity_type'] == et.TURRET) | \\\n",
    "                    (entities['entity_type'] == et.HOUSE)) & \\\n",
    "               (entities['health_gap'] > 0)\n",
    "        damaged = pd.DataFrame(entities[mask], columns=['entity_id', 'x', 'y', 'health_gap'])\n",
    "        damaged.columns = ['entity_id', 'dx', 'dy', 'health_gap']\n",
    "        damaged.sort_values(['health_gap'], ascending=False, inplace=True)\n",
    "        if len(damaged):\n",
    "            busy = []\n",
    "            mask = (entities['player_id'] == my_id) & (entities['entity_type'] == et.BUILDER_UNIT)\n",
    "            for building_id, dx, dy, health_gap in damaged.values:\n",
    "                repairers = pd.DataFrame(entities[mask], columns=['entity_id', 'x', 'y'])\n",
    "                repairers.columns = ['entity_id', 'rx', 'ry']\n",
    "                repairers['distance'] = np.hypot(repairers.rx - dx, repairers.ry - dy)\n",
    "                repairers.sort_values(['distance'], ascending=True, inplace=True)\n",
    "                repairers_count = 0\n",
    "                for repairer_id, rx, ry, distance in repairers.values:\n",
    "                    repairer_id = int(repairer_id)\n",
    "                    if not repairer_id in busy:\n",
    "                        m, b, a, r = None, None, None, None\n",
    "                        target = model.vec2_int.Vec2Int(dx, dy)\n",
    "                        r = model.repair_action.RepairAction(target=building_id)\n",
    "                        m = model.move_action.MoveAction(target, True, True)\n",
    "                        actions[repairer_id] = model.EntityAction(m, b, a, r)\n",
    "                        busy.append(repairer_id)\n",
    "                        repairers_count += 1\n",
    "                        if repairers_count >= self.repairers_per_target:\n",
    "                            break\n",
    "\n",
    "        if self.debug:\n",
    "            timer_end['repairers_action'] = datetime.datetime.now()\n",
    "\n",
    "        return actions"
   ]
  }
 ],
 "metadata": {
  "kernelspec": {
   "display_name": "Python 3",
   "language": "python",
   "name": "python3"
  },
  "language_info": {
   "codemirror_mode": {
    "name": "ipython",
    "version": 3
   },
   "file_extension": ".py",
   "mimetype": "text/x-python",
   "name": "python",
   "nbconvert_exporter": "python",
   "pygments_lexer": "ipython3",
   "version": "3.7.6"
  }
 },
 "nbformat": 4,
 "nbformat_minor": 4
}
